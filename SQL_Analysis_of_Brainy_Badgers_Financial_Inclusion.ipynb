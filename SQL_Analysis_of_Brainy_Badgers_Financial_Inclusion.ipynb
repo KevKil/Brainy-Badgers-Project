{
  "nbformat": 4,
  "nbformat_minor": 0,
  "metadata": {
    "colab": {
      "name": "SQL Analysis of Brainy Badgers Financial Inclusion.ipynb",
      "provenance": [],
      "collapsed_sections": [
        "axtk1G5Mf_gI",
        "uCdgvK40gxee",
        "h2WmjuFNiUBN",
        "XKXJPiT4h8_4",
        "AhBG9dEdixsX",
        "Qzp6klkEi_Fm",
        "Me7Ye46ojsoB",
        "gqRYuVQJkyh2",
        "l9ZJW6n_lFEr",
        "m_AeUg2BlUw8"
      ]
    },
    "kernelspec": {
      "display_name": "Python 3",
      "name": "python3"
    },
    "language_info": {
      "name": "python"
    }
  },
  "cells": [
    {
      "cell_type": "markdown",
      "metadata": {
        "id": "E5LXqTPBGIFY"
      },
      "source": [
        "# 1.0 Project overview"
      ]
    },
    {
      "cell_type": "markdown",
      "metadata": {
        "id": "GEjJQzuA6Q1B"
      },
      "source": [
        "## FINACIAL INCLUSIVITY CHECKER\n",
        "\n",
        "This is the notebook that will house the dataset to be prepared and later analysed in accordance to the project goals.\n",
        "\n",
        "###DATASET\n",
        "The group Brainy Badgers, has been tasked with assessing the level of financial inclusion in the region encompassing Kenya, Rwanda , Uganda and Tanzania. This is being done with the help of a dataset called the Financial Inclusion dataset.It is an excel format datatable that has thirteen columns and twenty three thousand five hundred and twenty five rows.The attributes are as follows:\n",
        "\n",
        "-country -(Country interviewee is in.)\n",
        "\n",
        "-year -(Year survey was done in.)\n",
        "\n",
        "-unique id - (Unique identifier for each interviewee)\n",
        "\n",
        "-location type -(Type of location: Rural, Urban)\n",
        "\n",
        "-cellphone access -(If interviewee has access to a cellphone: Yes, No)\n",
        "\n",
        "-household size -(Number of people living in one house)\n",
        "\n",
        "-Age of respondent -(The age of the interviewee)\n",
        "\n",
        "-gender of respondent - (Gender of interviewee: Male, Female)\n",
        "\n",
        "-relationship with head - (The interviewees' relationship with the head of the house:Head of Household, Spouse, Child, Parent, Other relative, Other non-relatives, Dont know)\n",
        "\n",
        "-maritial status - (The martial status of the interviewee: Married/Living together, Divorced/Seperated, Widowed, Single/Never Married, Don't know)\n",
        "\n",
        "-education level - (Highest level of education: No formal education, Primary education, Secondary education, Vocational/Specialised training, Tertiary education, Other/Dont know/RTA)\n",
        "\n",
        "-job type - (Type of job interviewee has: Farming and Fishing, Self employed, Formally employed Government, Formally employed Private, Informally employed, Remittance Dependent, Government Dependent, Other Income, No Income, Dont Know/Refuse to answer)\n",
        "\n",
        "Prior to the analysis of the dataset, cleaning will be undertaken. Primarily this will involve the removal of duplicates ,removal of the uniqueid column and the changing of the datatypes respectively.\n",
        "\n",
        "The next step will be the creation of new columns from the breaking of existing columns. From the relationship with head column,we will create a new column called head_of_household,this will state yes if the respondent is the head of the household.\n",
        "\n",
        "The next column to be broken will be the maritial status column creating a new column called the living_condition which will identify the state of the respondent whether they live with their spouse or not.\n",
        "\n",
        "To then ensure the validity of the data we will then identify duplications in the dataset ,removing all duplicates from the data.\n",
        "\n",
        "After these processes the data will be clean to a satisfactory degree and will now be ready for analysis which will be done in this notebook in the sql method\n",
        "\n",
        "\n"
      ]
    },
    {
      "cell_type": "markdown",
      "metadata": {
        "id": "wGY1h_PhelGD"
      },
      "source": [
        "## 1.02 Analysis objectives"
      ]
    },
    {
      "cell_type": "markdown",
      "metadata": {
        "id": "vP6OUQOtEti0"
      },
      "source": [
        "\n",
        "\n",
        "This analysis is in the form of answering the objectives:\n",
        "\n",
        "1.To determine the number of people with access to bank accounts and how this varies in urban and rural areas, between the job type\n",
        "\n",
        "2.To determine the country with the most mobile phones and the highest number of bank accounts.\n",
        "\n",
        "3.To determine the people to be targeted with mobile banking intergration\n",
        "\n",
        "4.To determine the job type to be targeted with fintech marketing in the region for people with a phone but no bank account.\n",
        "\n",
        "5.To determine the influence of mobile phone access and location to job type\n",
        "\n",
        "6.To determine which age has the most access to mobile phones.\n",
        "\n",
        "7.Age with mobile phone but no bank account.\n",
        "\n",
        "8.Determine which age has the highest access to mobile phones and bank accounts.\n",
        "\n",
        "9.To determine the percentage of level of access to mobile phones for people in the region per country\n",
        "\n",
        "10.To determine the percentage of level of access to mobile phones for people in the region\n",
        "\n",
        "11.To determine the percentage of level of access to mobile phones for people in urban areas and rural areas."
      ]
    },
    {
      "cell_type": "markdown",
      "metadata": {
        "id": "4JsRLVCl7IEl"
      },
      "source": [
        "# Loading our Database"
      ]
    },
    {
      "cell_type": "code",
      "metadata": {
        "colab": {
          "base_uri": "https://localhost:8080/",
          "height": 35
        },
        "id": "gH9fVoWOEmae",
        "outputId": "ff0b1655-882b-4f89-dc9d-e299076eccce"
      },
      "source": [
        "# We will first load the sql extension into our environment\n",
        "%load_ext sql\n",
        "\n",
        "# Then connect to our in memory sqlite database\n",
        "# NB: This database will cease to exist as soon as the database connection is closed. \n",
        "%sql sqlite://\n"
      ],
      "execution_count": null,
      "outputs": [
        {
          "output_type": "execute_result",
          "data": {
            "application/vnd.google.colaboratory.intrinsic+json": {
              "type": "string"
            },
            "text/plain": [
              "'Connected: @None'"
            ]
          },
          "metadata": {},
          "execution_count": 1
        }
      ]
    },
    {
      "cell_type": "markdown",
      "metadata": {
        "id": "C_jwUvSrGOQZ"
      },
      "source": [
        "# 1.0 Import the libraries"
      ]
    },
    {
      "cell_type": "code",
      "metadata": {
        "id": "n9Ub5bWLFi-N"
      },
      "source": [
        "# Importing the pandas library\n",
        "# We will use a function read_csv from pandas to read our datasets as shown\n",
        "#\n",
        "import pandas as pd "
      ],
      "execution_count": null,
      "outputs": []
    },
    {
      "cell_type": "markdown",
      "metadata": {
        "id": "qd9Tised9F5l"
      },
      "source": [
        "# Upload the table from the csv."
      ]
    },
    {
      "cell_type": "code",
      "metadata": {
        "colab": {
          "base_uri": "https://localhost:8080/",
          "height": 355
        },
        "id": "dVSIKtDvFq-4",
        "outputId": "0528459f-3919-446c-831c-9ac80d4a8b39"
      },
      "source": [
        "# Loading our table from the respective CSV files\n",
        "# We will export the dataset that we have cleaned using python\n",
        "#\n",
        "with open('Financial_Inclusivity.csv','r') as f:\n",
        "    Financial = pd.read_csv(f, index_col=0, encoding='utf-8')\n",
        "%sql DROP TABLE if EXISTS Financial;\n",
        "%sql PERSIST Financial;\n",
        "%sql SELECT * FROM Financial LIMIT 5;"
      ],
      "execution_count": null,
      "outputs": [
        {
          "output_type": "stream",
          "name": "stdout",
          "text": [
            " * sqlite://\n",
            "Done.\n",
            " * sqlite://\n",
            " * sqlite://\n",
            "Done.\n"
          ]
        },
        {
          "output_type": "execute_result",
          "data": {
            "text/html": [
              "<table>\n",
              "    <thead>\n",
              "        <tr>\n",
              "            <th>index</th>\n",
              "            <th>country</th>\n",
              "            <th>year</th>\n",
              "            <th>bank_account</th>\n",
              "            <th>location_type</th>\n",
              "            <th>cellphone_access</th>\n",
              "            <th>household_size</th>\n",
              "            <th>age_of_respondent</th>\n",
              "            <th>gender_of_respondent</th>\n",
              "            <th>relationship_with_head</th>\n",
              "            <th>marital_status</th>\n",
              "            <th>education_level</th>\n",
              "            <th>job_type</th>\n",
              "            <th>living_condition</th>\n",
              "            <th>head_of_household</th>\n",
              "        </tr>\n",
              "    </thead>\n",
              "    <tbody>\n",
              "        <tr>\n",
              "            <td>0</td>\n",
              "            <td>Kenya</td>\n",
              "            <td>2018</td>\n",
              "            <td>Yes</td>\n",
              "            <td>Rural</td>\n",
              "            <td>Yes</td>\n",
              "            <td>3</td>\n",
              "            <td>24</td>\n",
              "            <td>Female</td>\n",
              "            <td>Spouse</td>\n",
              "            <td>Married</td>\n",
              "            <td>Secondary education</td>\n",
              "            <td>Self employed</td>\n",
              "            <td>Living together</td>\n",
              "            <td>No</td>\n",
              "        </tr>\n",
              "        <tr>\n",
              "            <td>1</td>\n",
              "            <td>Kenya</td>\n",
              "            <td>2018</td>\n",
              "            <td>No</td>\n",
              "            <td>Rural</td>\n",
              "            <td>No</td>\n",
              "            <td>5</td>\n",
              "            <td>70</td>\n",
              "            <td>Female</td>\n",
              "            <td>Head of Household</td>\n",
              "            <td>Widowed</td>\n",
              "            <td>No formal education</td>\n",
              "            <td>Government Dependent</td>\n",
              "            <td>Widowed</td>\n",
              "            <td>Yes</td>\n",
              "        </tr>\n",
              "        <tr>\n",
              "            <td>2</td>\n",
              "            <td>Kenya</td>\n",
              "            <td>2018</td>\n",
              "            <td>Yes</td>\n",
              "            <td>Urban</td>\n",
              "            <td>Yes</td>\n",
              "            <td>5</td>\n",
              "            <td>26</td>\n",
              "            <td>Male</td>\n",
              "            <td>Other relative</td>\n",
              "            <td>Single</td>\n",
              "            <td>Vocational/Specialised training</td>\n",
              "            <td>Self employed</td>\n",
              "            <td>Never Married</td>\n",
              "            <td>No</td>\n",
              "        </tr>\n",
              "        <tr>\n",
              "            <td>3</td>\n",
              "            <td>Kenya</td>\n",
              "            <td>2018</td>\n",
              "            <td>No</td>\n",
              "            <td>Rural</td>\n",
              "            <td>Yes</td>\n",
              "            <td>5</td>\n",
              "            <td>34</td>\n",
              "            <td>Female</td>\n",
              "            <td>Head of Household</td>\n",
              "            <td>Married</td>\n",
              "            <td>Primary education</td>\n",
              "            <td>Formally employed Private</td>\n",
              "            <td>Living together</td>\n",
              "            <td>Yes</td>\n",
              "        </tr>\n",
              "        <tr>\n",
              "            <td>4</td>\n",
              "            <td>Kenya</td>\n",
              "            <td>2018</td>\n",
              "            <td>No</td>\n",
              "            <td>Urban</td>\n",
              "            <td>No</td>\n",
              "            <td>8</td>\n",
              "            <td>26</td>\n",
              "            <td>Male</td>\n",
              "            <td>Child</td>\n",
              "            <td>Single</td>\n",
              "            <td>Primary education</td>\n",
              "            <td>Informally employed</td>\n",
              "            <td>Never Married</td>\n",
              "            <td>No</td>\n",
              "        </tr>\n",
              "    </tbody>\n",
              "</table>"
            ],
            "text/plain": [
              "[(0, 'Kenya', 2018, 'Yes', 'Rural', 'Yes', 3, 24, 'Female', 'Spouse', 'Married', 'Secondary education', 'Self employed', 'Living together', 'No'),\n",
              " (1, 'Kenya', 2018, 'No', 'Rural', 'No', 5, 70, 'Female', 'Head of Household', 'Widowed', 'No formal education', 'Government Dependent', 'Widowed', 'Yes'),\n",
              " (2, 'Kenya', 2018, 'Yes', 'Urban', 'Yes', 5, 26, 'Male', 'Other relative', 'Single', 'Vocational/Specialised training', 'Self employed', 'Never Married', 'No'),\n",
              " (3, 'Kenya', 2018, 'No', 'Rural', 'Yes', 5, 34, 'Female', 'Head of Household', 'Married', 'Primary education', 'Formally employed Private', 'Living together', 'Yes'),\n",
              " (4, 'Kenya', 2018, 'No', 'Urban', 'No', 8, 26, 'Male', 'Child', 'Single', 'Primary education', 'Informally employed', 'Never Married', 'No')]"
            ]
          },
          "metadata": {},
          "execution_count": 3
        }
      ]
    },
    {
      "cell_type": "markdown",
      "metadata": {
        "id": "YdnAAetjEjjJ"
      },
      "source": [
        "#SQL Analysis"
      ]
    },
    {
      "cell_type": "markdown",
      "metadata": {
        "id": "axtk1G5Mf_gI"
      },
      "source": [
        "## 1.To determine the number of people with access to bank accounts and how this varies in urban and rural areas, between the job type"
      ]
    },
    {
      "cell_type": "code",
      "metadata": {
        "colab": {
          "base_uri": "https://localhost:8080/",
          "height": 119
        },
        "id": "A3hUC5HgIqms",
        "outputId": "435c5af1-fa28-4f6f-85e5-f6c12075ea9a"
      },
      "source": [
        "# To determine the number of people with access to bank accounts and how this varies in urban and rural areas\n",
        "%%sql\n",
        "select count(bank_account), location_type\n",
        "from Financial\n",
        "where bank_account = 'Yes'\n",
        "group by location_type"
      ],
      "execution_count": null,
      "outputs": [
        {
          "output_type": "stream",
          "name": "stdout",
          "text": [
            " * sqlite://\n",
            "Done.\n"
          ]
        },
        {
          "output_type": "execute_result",
          "data": {
            "text/html": [
              "<table>\n",
              "    <thead>\n",
              "        <tr>\n",
              "            <th>count(bank_account)</th>\n",
              "            <th>location_type</th>\n",
              "        </tr>\n",
              "    </thead>\n",
              "    <tbody>\n",
              "        <tr>\n",
              "            <td>1671</td>\n",
              "            <td>Rural</td>\n",
              "        </tr>\n",
              "        <tr>\n",
              "            <td>1641</td>\n",
              "            <td>Urban</td>\n",
              "        </tr>\n",
              "    </tbody>\n",
              "</table>"
            ],
            "text/plain": [
              "[(1671, 'Rural'), (1641, 'Urban')]"
            ]
          },
          "metadata": {},
          "execution_count": 6
        }
      ]
    },
    {
      "cell_type": "code",
      "metadata": {
        "colab": {
          "base_uri": "https://localhost:8080/",
          "height": 288
        },
        "id": "aOhnM3UEJSMm",
        "outputId": "d5f6ebd9-67be-4201-e628-edfdcdf8fd45"
      },
      "source": [
        "# To determine the number of people with access to bank accounts and how this varies with job type\n",
        "%%sql\n",
        "select count(bank_account), job_type\n",
        "from Financial\n",
        "where bank_account = 'Yes'\n",
        "group by job_type\n",
        "order by count(bank_account) desc"
      ],
      "execution_count": null,
      "outputs": [
        {
          "output_type": "stream",
          "name": "stdout",
          "text": [
            " * sqlite://\n",
            "Done.\n"
          ]
        },
        {
          "output_type": "execute_result",
          "data": {
            "text/html": [
              "<table>\n",
              "    <thead>\n",
              "        <tr>\n",
              "            <th>count(bank_account)</th>\n",
              "            <th>job_type</th>\n",
              "        </tr>\n",
              "    </thead>\n",
              "    <tbody>\n",
              "        <tr>\n",
              "            <td>848</td>\n",
              "            <td>Self employed</td>\n",
              "        </tr>\n",
              "        <tr>\n",
              "            <td>635</td>\n",
              "            <td>Farming and Fishing</td>\n",
              "        </tr>\n",
              "        <tr>\n",
              "            <td>571</td>\n",
              "            <td>Formally employed Private</td>\n",
              "        </tr>\n",
              "        <tr>\n",
              "            <td>445</td>\n",
              "            <td>Informally employed</td>\n",
              "        </tr>\n",
              "        <tr>\n",
              "            <td>300</td>\n",
              "            <td>Formally employed Government</td>\n",
              "        </tr>\n",
              "        <tr>\n",
              "            <td>240</td>\n",
              "            <td>Remittance Dependent</td>\n",
              "        </tr>\n",
              "        <tr>\n",
              "            <td>196</td>\n",
              "            <td>Other Income</td>\n",
              "        </tr>\n",
              "        <tr>\n",
              "            <td>50</td>\n",
              "            <td>Government Dependent</td>\n",
              "        </tr>\n",
              "        <tr>\n",
              "            <td>14</td>\n",
              "            <td>Dont Know/Refuse to answer</td>\n",
              "        </tr>\n",
              "        <tr>\n",
              "            <td>13</td>\n",
              "            <td>No Income</td>\n",
              "        </tr>\n",
              "    </tbody>\n",
              "</table>"
            ],
            "text/plain": [
              "[(848, 'Self employed'),\n",
              " (635, 'Farming and Fishing'),\n",
              " (571, 'Formally employed Private'),\n",
              " (445, 'Informally employed'),\n",
              " (300, 'Formally employed Government'),\n",
              " (240, 'Remittance Dependent'),\n",
              " (196, 'Other Income'),\n",
              " (50, 'Government Dependent'),\n",
              " (14, 'Dont Know/Refuse to answer'),\n",
              " (13, 'No Income')]"
            ]
          },
          "metadata": {},
          "execution_count": 7
        }
      ]
    },
    {
      "cell_type": "markdown",
      "metadata": {
        "id": "uCdgvK40gxee"
      },
      "source": [
        "## 2.To determine the country with the most mobile phones and the highest number of bank accounts."
      ]
    },
    {
      "cell_type": "code",
      "metadata": {
        "colab": {
          "base_uri": "https://localhost:8080/",
          "height": 97
        },
        "id": "pc_T0jPKSPZ6",
        "outputId": "a3c74bca-7645-4d66-d1ea-6fd2891d6f20"
      },
      "source": [
        "# 2.01 To determine the country with the most bank accounts\n",
        "%%sql\n",
        "select country, count(bank_account)\n",
        "from Financial\n",
        "where bank_account = 'Yes'\n",
        "group by country\n",
        "order by count(bank_account) desc \n",
        "limit(1)"
      ],
      "execution_count": null,
      "outputs": [
        {
          "output_type": "stream",
          "name": "stdout",
          "text": [
            " * sqlite://\n",
            "Done.\n"
          ]
        },
        {
          "output_type": "execute_result",
          "data": {
            "text/html": [
              "<table>\n",
              "    <thead>\n",
              "        <tr>\n",
              "            <th>country</th>\n",
              "            <th>count(bank_account)</th>\n",
              "        </tr>\n",
              "    </thead>\n",
              "    <tbody>\n",
              "        <tr>\n",
              "            <td>Kenya</td>\n",
              "            <td>1521</td>\n",
              "        </tr>\n",
              "    </tbody>\n",
              "</table>"
            ],
            "text/plain": [
              "[('Kenya', 1521)]"
            ]
          },
          "metadata": {},
          "execution_count": 8
        }
      ]
    },
    {
      "cell_type": "code",
      "metadata": {
        "colab": {
          "base_uri": "https://localhost:8080/",
          "height": 97
        },
        "id": "NZPy_uCVUZjo",
        "outputId": "11123338-8135-4917-e538-7ac3e535359c"
      },
      "source": [
        "# 2.02 To determine the country with the most mobile phones.\n",
        "%%sql\n",
        "select country, count(cellphone_access)\n",
        "from Financial\n",
        "where cellphone_access = 'Yes'\n",
        "group by country\n",
        "order by count(cellphone_access) desc\n",
        "limit(1)"
      ],
      "execution_count": null,
      "outputs": [
        {
          "output_type": "stream",
          "name": "stdout",
          "text": [
            " * sqlite://\n",
            "Done.\n"
          ]
        },
        {
          "output_type": "execute_result",
          "data": {
            "text/html": [
              "<table>\n",
              "    <thead>\n",
              "        <tr>\n",
              "            <th>country</th>\n",
              "            <th>count(cellphone_access)</th>\n",
              "        </tr>\n",
              "    </thead>\n",
              "    <tbody>\n",
              "        <tr>\n",
              "            <td>Rwanda</td>\n",
              "            <td>7249</td>\n",
              "        </tr>\n",
              "    </tbody>\n",
              "</table>"
            ],
            "text/plain": [
              "[('Rwanda', 7249)]"
            ]
          },
          "metadata": {},
          "execution_count": 10
        }
      ]
    },
    {
      "cell_type": "markdown",
      "metadata": {
        "id": "h2WmjuFNiUBN"
      },
      "source": [
        "## 3.To determine the people to be targeted with mobile banking intergration"
      ]
    },
    {
      "cell_type": "code",
      "metadata": {
        "colab": {
          "base_uri": "https://localhost:8080/",
          "height": 288
        },
        "id": "CLJarKlpJ4Z4",
        "outputId": "724095e7-acf3-4927-9b3e-e9306be0ecff"
      },
      "source": [
        "%%sql\n",
        "select count(bank_account), count(cellphone_access), job_type\n",
        "from Financial\n",
        "where bank_account = 'Yes' and cellphone_access = 'Yes'\n",
        "group by job_type\n",
        "order by count(bank_account) desc"
      ],
      "execution_count": null,
      "outputs": [
        {
          "output_type": "stream",
          "name": "stdout",
          "text": [
            " * sqlite://\n",
            "Done.\n"
          ]
        },
        {
          "output_type": "execute_result",
          "data": {
            "text/html": [
              "<table>\n",
              "    <thead>\n",
              "        <tr>\n",
              "            <th>count(bank_account)</th>\n",
              "            <th>count(cellphone_access)</th>\n",
              "            <th>job_type</th>\n",
              "        </tr>\n",
              "    </thead>\n",
              "    <tbody>\n",
              "        <tr>\n",
              "            <td>831</td>\n",
              "            <td>831</td>\n",
              "            <td>Self employed</td>\n",
              "        </tr>\n",
              "        <tr>\n",
              "            <td>605</td>\n",
              "            <td>605</td>\n",
              "            <td>Farming and Fishing</td>\n",
              "        </tr>\n",
              "        <tr>\n",
              "            <td>568</td>\n",
              "            <td>568</td>\n",
              "            <td>Formally employed Private</td>\n",
              "        </tr>\n",
              "        <tr>\n",
              "            <td>435</td>\n",
              "            <td>435</td>\n",
              "            <td>Informally employed</td>\n",
              "        </tr>\n",
              "        <tr>\n",
              "            <td>296</td>\n",
              "            <td>296</td>\n",
              "            <td>Formally employed Government</td>\n",
              "        </tr>\n",
              "        <tr>\n",
              "            <td>227</td>\n",
              "            <td>227</td>\n",
              "            <td>Remittance Dependent</td>\n",
              "        </tr>\n",
              "        <tr>\n",
              "            <td>186</td>\n",
              "            <td>186</td>\n",
              "            <td>Other Income</td>\n",
              "        </tr>\n",
              "        <tr>\n",
              "            <td>35</td>\n",
              "            <td>35</td>\n",
              "            <td>Government Dependent</td>\n",
              "        </tr>\n",
              "        <tr>\n",
              "            <td>14</td>\n",
              "            <td>14</td>\n",
              "            <td>Dont Know/Refuse to answer</td>\n",
              "        </tr>\n",
              "        <tr>\n",
              "            <td>11</td>\n",
              "            <td>11</td>\n",
              "            <td>No Income</td>\n",
              "        </tr>\n",
              "    </tbody>\n",
              "</table>"
            ],
            "text/plain": [
              "[(831, 831, 'Self employed'),\n",
              " (605, 605, 'Farming and Fishing'),\n",
              " (568, 568, 'Formally employed Private'),\n",
              " (435, 435, 'Informally employed'),\n",
              " (296, 296, 'Formally employed Government'),\n",
              " (227, 227, 'Remittance Dependent'),\n",
              " (186, 186, 'Other Income'),\n",
              " (35, 35, 'Government Dependent'),\n",
              " (14, 14, 'Dont Know/Refuse to answer'),\n",
              " (11, 11, 'No Income')]"
            ]
          },
          "metadata": {},
          "execution_count": 13
        }
      ]
    },
    {
      "cell_type": "markdown",
      "metadata": {
        "id": "XKXJPiT4h8_4"
      },
      "source": [
        "## 4.To determine the job type to be targeted with fintech marketing in the region for people with a phone but no bank account"
      ]
    },
    {
      "cell_type": "code",
      "metadata": {
        "colab": {
          "base_uri": "https://localhost:8080/",
          "height": 277
        },
        "id": "IWxBha7YK_dD",
        "outputId": "fa2537b4-d5e5-4372-c305-a8a222552e6f"
      },
      "source": [
        "%%sql\n",
        "select count(bank_account), count(cellphone_access), job_type\n",
        "from Financial\n",
        "where bank_account = 'No' and cellphone_access = 'Yes'\n",
        "group by job_type\n",
        "order by count(bank_account) desc"
      ],
      "execution_count": null,
      "outputs": [
        {
          "output_type": "stream",
          "name": "stdout",
          "text": [
            " * sqlite://\n",
            "Done.\n"
          ]
        },
        {
          "output_type": "execute_result",
          "data": {
            "text/html": [
              "<table>\n",
              "    <thead>\n",
              "        <tr>\n",
              "            <th>count(bank_account)</th>\n",
              "            <th>count(cellphone_access)</th>\n",
              "            <th>job_type</th>\n",
              "        </tr>\n",
              "    </thead>\n",
              "    <tbody>\n",
              "        <tr>\n",
              "            <td>3918</td>\n",
              "            <td>3918</td>\n",
              "            <td>Farming and Fishing</td>\n",
              "        </tr>\n",
              "        <tr>\n",
              "            <td>3688</td>\n",
              "            <td>3688</td>\n",
              "            <td>Self employed</td>\n",
              "        </tr>\n",
              "        <tr>\n",
              "            <td>3681</td>\n",
              "            <td>3681</td>\n",
              "            <td>Informally employed</td>\n",
              "        </tr>\n",
              "        <tr>\n",
              "            <td>1383</td>\n",
              "            <td>1383</td>\n",
              "            <td>Remittance Dependent</td>\n",
              "        </tr>\n",
              "        <tr>\n",
              "            <td>601</td>\n",
              "            <td>601</td>\n",
              "            <td>Other Income</td>\n",
              "        </tr>\n",
              "        <tr>\n",
              "            <td>440</td>\n",
              "            <td>440</td>\n",
              "            <td>Formally employed Private</td>\n",
              "        </tr>\n",
              "        <tr>\n",
              "            <td>282</td>\n",
              "            <td>282</td>\n",
              "            <td>No Income</td>\n",
              "        </tr>\n",
              "        <tr>\n",
              "            <td>87</td>\n",
              "            <td>87</td>\n",
              "            <td>Government Dependent</td>\n",
              "        </tr>\n",
              "        <tr>\n",
              "            <td>85</td>\n",
              "            <td>85</td>\n",
              "            <td>Formally employed Government</td>\n",
              "        </tr>\n",
              "        <tr>\n",
              "            <td>81</td>\n",
              "            <td>81</td>\n",
              "            <td>Dont Know/Refuse to answer</td>\n",
              "        </tr>\n",
              "    </tbody>\n",
              "</table>"
            ],
            "text/plain": [
              "[(3918, 3918, 'Farming and Fishing'),\n",
              " (3688, 3688, 'Self employed'),\n",
              " (3681, 3681, 'Informally employed'),\n",
              " (1383, 1383, 'Remittance Dependent'),\n",
              " (601, 601, 'Other Income'),\n",
              " (440, 440, 'Formally employed Private'),\n",
              " (282, 282, 'No Income'),\n",
              " (87, 87, 'Government Dependent'),\n",
              " (85, 85, 'Formally employed Government'),\n",
              " (81, 81, 'Dont Know/Refuse to answer')]"
            ]
          },
          "metadata": {},
          "execution_count": 92
        }
      ]
    },
    {
      "cell_type": "markdown",
      "metadata": {
        "id": "AhBG9dEdixsX"
      },
      "source": [
        "## 5.To determine the influence of mobile phone access and location to job type"
      ]
    },
    {
      "cell_type": "code",
      "metadata": {
        "colab": {
          "base_uri": "https://localhost:8080/",
          "height": 284
        },
        "id": "VTwn92ToLqUw",
        "outputId": "b78bc8d2-4481-4c57-9023-f59007c37415"
      },
      "source": [
        "%%sql\n",
        "select job_type, location_type,cellphone_access, count(cellphone_access)\n",
        "from Financial\n",
        "group by job_type\n",
        "order by count(cellphone_access) desc\n"
      ],
      "execution_count": null,
      "outputs": [
        {
          "output_type": "stream",
          "name": "stdout",
          "text": [
            " * sqlite://\n",
            "Done.\n"
          ]
        },
        {
          "output_type": "execute_result",
          "data": {
            "text/html": [
              "<table>\n",
              "    <thead>\n",
              "        <tr>\n",
              "            <th>job_type</th>\n",
              "            <th>location_type</th>\n",
              "            <th>cellphone_access</th>\n",
              "            <th>count(cellphone_access)</th>\n",
              "        </tr>\n",
              "    </thead>\n",
              "    <tbody>\n",
              "        <tr>\n",
              "            <td>Self employed</td>\n",
              "            <td>Urban</td>\n",
              "            <td>Yes</td>\n",
              "            <td>6437</td>\n",
              "        </tr>\n",
              "        <tr>\n",
              "            <td>Informally employed</td>\n",
              "            <td>Urban</td>\n",
              "            <td>Yes</td>\n",
              "            <td>5597</td>\n",
              "        </tr>\n",
              "        <tr>\n",
              "            <td>Farming and Fishing</td>\n",
              "            <td>Rural</td>\n",
              "            <td>Yes</td>\n",
              "            <td>5441</td>\n",
              "        </tr>\n",
              "        <tr>\n",
              "            <td>Remittance Dependent</td>\n",
              "            <td>Urban</td>\n",
              "            <td>No</td>\n",
              "            <td>2527</td>\n",
              "        </tr>\n",
              "        <tr>\n",
              "            <td>Other Income</td>\n",
              "            <td>Rural</td>\n",
              "            <td>Yes</td>\n",
              "            <td>1080</td>\n",
              "        </tr>\n",
              "        <tr>\n",
              "            <td>Formally employed Private</td>\n",
              "            <td>Urban</td>\n",
              "            <td>Yes</td>\n",
              "            <td>1055</td>\n",
              "        </tr>\n",
              "        <tr>\n",
              "            <td>No Income</td>\n",
              "            <td>Rural</td>\n",
              "            <td>Yes</td>\n",
              "            <td>627</td>\n",
              "        </tr>\n",
              "        <tr>\n",
              "            <td>Formally employed Government</td>\n",
              "            <td>Rural</td>\n",
              "            <td>Yes</td>\n",
              "            <td>387</td>\n",
              "        </tr>\n",
              "        <tr>\n",
              "            <td>Government Dependent</td>\n",
              "            <td>Urban</td>\n",
              "            <td>No</td>\n",
              "            <td>247</td>\n",
              "        </tr>\n",
              "        <tr>\n",
              "            <td>Dont Know/Refuse to answer</td>\n",
              "            <td>Rural</td>\n",
              "            <td>No</td>\n",
              "            <td>126</td>\n",
              "        </tr>\n",
              "    </tbody>\n",
              "</table>"
            ],
            "text/plain": [
              "[('Self employed', 'Urban', 'Yes', 6437),\n",
              " ('Informally employed', 'Urban', 'Yes', 5597),\n",
              " ('Farming and Fishing', 'Rural', 'Yes', 5441),\n",
              " ('Remittance Dependent', 'Urban', 'No', 2527),\n",
              " ('Other Income', 'Rural', 'Yes', 1080),\n",
              " ('Formally employed Private', 'Urban', 'Yes', 1055),\n",
              " ('No Income', 'Rural', 'Yes', 627),\n",
              " ('Formally employed Government', 'Rural', 'Yes', 387),\n",
              " ('Government Dependent', 'Urban', 'No', 247),\n",
              " ('Dont Know/Refuse to answer', 'Rural', 'No', 126)]"
            ]
          },
          "metadata": {},
          "execution_count": 28
        }
      ]
    },
    {
      "cell_type": "markdown",
      "metadata": {
        "id": "Qzp6klkEi_Fm"
      },
      "source": [
        "## 6.To determine which age has the most access to mobile phones, mobile phones and no bank account, mobile phones and bank accounts"
      ]
    },
    {
      "cell_type": "code",
      "metadata": {
        "colab": {
          "base_uri": "https://localhost:8080/",
          "height": 93
        },
        "id": "APdBr9gGNpma",
        "outputId": "c83d2e8d-114a-47b6-86e8-dcc0f58e8eb7"
      },
      "source": [
        "#Respondent age with most access to mobile phones\n",
        "%%sql\n",
        "select age_of_respondent, count(cellphone_access)\n",
        "from Financial\n",
        "where cellphone_access = 'Yes'\n",
        "group by age_of_respondent\n",
        "order by count(cellphone_access) desc\n",
        "limit 1\n"
      ],
      "execution_count": null,
      "outputs": [
        {
          "output_type": "stream",
          "name": "stdout",
          "text": [
            " * sqlite://\n",
            "Done.\n"
          ]
        },
        {
          "output_type": "execute_result",
          "data": {
            "text/html": [
              "<table>\n",
              "    <thead>\n",
              "        <tr>\n",
              "            <th>age_of_respondent</th>\n",
              "            <th>count(cellphone_access)</th>\n",
              "        </tr>\n",
              "    </thead>\n",
              "    <tbody>\n",
              "        <tr>\n",
              "            <td>30</td>\n",
              "            <td>824</td>\n",
              "        </tr>\n",
              "    </tbody>\n",
              "</table>"
            ],
            "text/plain": [
              "[(30, 824)]"
            ]
          },
          "metadata": {},
          "execution_count": 37
        }
      ]
    },
    {
      "cell_type": "code",
      "metadata": {
        "colab": {
          "base_uri": "https://localhost:8080/",
          "height": 95
        },
        "id": "09mRL2z0URxP",
        "outputId": "1564c92d-127d-463c-f653-a0d4b752280f"
      },
      "source": [
        "#Respondent age with most access to mobile phones without bank account\n",
        "%%sql\n",
        "select age_of_respondent, count(cellphone_access)\n",
        "from Financial\n",
        "where cellphone_access = 'Yes' and bank_account = 'No'\n",
        "group by age_of_respondent\n",
        "order by count(cellphone_access) desc\n",
        "limit 1\n"
      ],
      "execution_count": null,
      "outputs": [
        {
          "output_type": "stream",
          "name": "stdout",
          "text": [
            " * sqlite://\n",
            "Done.\n"
          ]
        },
        {
          "output_type": "execute_result",
          "data": {
            "text/html": [
              "<table>\n",
              "    <thead>\n",
              "        <tr>\n",
              "            <th>age_of_respondent</th>\n",
              "            <th>count(cellphone_access)</th>\n",
              "        </tr>\n",
              "    </thead>\n",
              "    <tbody>\n",
              "        <tr>\n",
              "            <td>30</td>\n",
              "            <td>648</td>\n",
              "        </tr>\n",
              "    </tbody>\n",
              "</table>"
            ],
            "text/plain": [
              "[(30, 648)]"
            ]
          },
          "metadata": {},
          "execution_count": 10
        }
      ]
    },
    {
      "cell_type": "code",
      "metadata": {
        "colab": {
          "base_uri": "https://localhost:8080/",
          "height": 95
        },
        "id": "O6xur6LmUYjp",
        "outputId": "f88c1be0-2a05-497c-e817-d42dbe19a749"
      },
      "source": [
        "#Respondent age with highest cell phone access and access to bank accounts\n",
        "%%sql\n",
        "select age_of_respondent, count(cellphone_access)\n",
        "from Financial\n",
        "where cellphone_access = 'Yes' and bank_account = 'Yes'\n",
        "group by age_of_respondent\n",
        "order by count(cellphone_access) desc\n",
        "limit 1"
      ],
      "execution_count": null,
      "outputs": [
        {
          "output_type": "stream",
          "name": "stdout",
          "text": [
            " * sqlite://\n",
            "Done.\n"
          ]
        },
        {
          "output_type": "execute_result",
          "data": {
            "text/html": [
              "<table>\n",
              "    <thead>\n",
              "        <tr>\n",
              "            <th>age_of_respondent</th>\n",
              "            <th>count(cellphone_access)</th>\n",
              "        </tr>\n",
              "    </thead>\n",
              "    <tbody>\n",
              "        <tr>\n",
              "            <td>30</td>\n",
              "            <td>176</td>\n",
              "        </tr>\n",
              "    </tbody>\n",
              "</table>"
            ],
            "text/plain": [
              "[(30, 176)]"
            ]
          },
          "metadata": {},
          "execution_count": 11
        }
      ]
    },
    {
      "cell_type": "code",
      "metadata": {
        "colab": {
          "base_uri": "https://localhost:8080/",
          "height": 95
        },
        "id": "ezc9_5Ddkgp9",
        "outputId": "efc80286-f4d1-4312-e06f-8fbddcb80e12"
      },
      "source": [
        "%%sql\n",
        "select age_of_respondent, count(bank_account)\n",
        "from Financial\n",
        "where bank_account = 'Yes'\n",
        "group by age_of_respondent\n",
        "order by count(bank_account) desc\n",
        "limit 1"
      ],
      "execution_count": null,
      "outputs": [
        {
          "output_type": "stream",
          "name": "stdout",
          "text": [
            " * sqlite://\n",
            "Done.\n"
          ]
        },
        {
          "output_type": "execute_result",
          "data": {
            "text/html": [
              "<table>\n",
              "    <thead>\n",
              "        <tr>\n",
              "            <th>age_of_respondent</th>\n",
              "            <th>count(bank_account)</th>\n",
              "        </tr>\n",
              "    </thead>\n",
              "    <tbody>\n",
              "        <tr>\n",
              "            <td>30</td>\n",
              "            <td>177</td>\n",
              "        </tr>\n",
              "    </tbody>\n",
              "</table>"
            ],
            "text/plain": [
              "[(30, 177)]"
            ]
          },
          "metadata": {},
          "execution_count": 29
        }
      ]
    },
    {
      "cell_type": "markdown",
      "metadata": {
        "id": "l9ZJW6n_lFEr"
      },
      "source": [
        "## 7.To determine the percentage of level of access to mobile phones for people in the region per country and percentage of level of access in region"
      ]
    },
    {
      "cell_type": "code",
      "metadata": {
        "colab": {
          "base_uri": "https://localhost:8080/",
          "height": 154
        },
        "id": "4q1TeOsrWhHg",
        "outputId": "c899e456-6bae-4827-d7c9-bde76da99cb4"
      },
      "source": [
        "#Percentage of level of access per country\n",
        "%%sql\n",
        "select country,count(cellphone_access), (100*count(cellphone_access)/(select count(cellphone_access) from Financial where cellphone_access = 'Yes')) as percentage_country\n",
        "from Financial\n",
        "where cellphone_access = 'Yes' \n",
        "group by country\n",
        "order by count(cellphone_access) desc"
      ],
      "execution_count": null,
      "outputs": [
        {
          "output_type": "stream",
          "name": "stdout",
          "text": [
            " * sqlite://\n",
            "Done.\n"
          ]
        },
        {
          "output_type": "execute_result",
          "data": {
            "text/html": [
              "<table>\n",
              "    <thead>\n",
              "        <tr>\n",
              "            <th>country</th>\n",
              "            <th>count(cellphone_access)</th>\n",
              "            <th>percentage_country</th>\n",
              "        </tr>\n",
              "    </thead>\n",
              "    <tbody>\n",
              "        <tr>\n",
              "            <td>Rwanda</td>\n",
              "            <td>7249</td>\n",
              "            <td>41</td>\n",
              "        </tr>\n",
              "        <tr>\n",
              "            <td>Kenya</td>\n",
              "            <td>4785</td>\n",
              "            <td>27</td>\n",
              "        </tr>\n",
              "        <tr>\n",
              "            <td>Tanzania</td>\n",
              "            <td>3956</td>\n",
              "            <td>22</td>\n",
              "        </tr>\n",
              "        <tr>\n",
              "            <td>Uganda</td>\n",
              "            <td>1464</td>\n",
              "            <td>8</td>\n",
              "        </tr>\n",
              "    </tbody>\n",
              "</table>"
            ],
            "text/plain": [
              "[('Rwanda', 7249, 41),\n",
              " ('Kenya', 4785, 27),\n",
              " ('Tanzania', 3956, 22),\n",
              " ('Uganda', 1464, 8)]"
            ]
          },
          "metadata": {},
          "execution_count": 107
        }
      ]
    },
    {
      "cell_type": "code",
      "metadata": {
        "colab": {
          "base_uri": "https://localhost:8080/",
          "height": 95
        },
        "id": "OUnz3XmnWA1_",
        "outputId": "f536eee6-3eb7-40de-8fe2-5438613854f9"
      },
      "source": [
        "#Percentage of cell phone access in region\n",
        "%%sql\n",
        "select (select count(cellphone_access) from Financial where cellphone_access = 'Yes')\n",
        " as Regional_cell_count, (select count(cellphone_access) from Financial) as Region_total,\n",
        "(100*(select count(cellphone_access) \n",
        "from Financial where cellphone_access = 'Yes')/ (select count(cellphone_access) from Financial))\n",
        " as percentage_region"
      ],
      "execution_count": null,
      "outputs": [
        {
          "output_type": "stream",
          "name": "stdout",
          "text": [
            " * sqlite://\n",
            "Done.\n"
          ]
        },
        {
          "output_type": "execute_result",
          "data": {
            "text/html": [
              "<table>\n",
              "    <thead>\n",
              "        <tr>\n",
              "            <th>Regional_cell_count</th>\n",
              "            <th>Region_total</th>\n",
              "            <th>percentage_region</th>\n",
              "        </tr>\n",
              "    </thead>\n",
              "    <tbody>\n",
              "        <tr>\n",
              "            <td>17454</td>\n",
              "            <td>23524</td>\n",
              "            <td>74</td>\n",
              "        </tr>\n",
              "    </tbody>\n",
              "</table>"
            ],
            "text/plain": [
              "[(17454, 23524, 74)]"
            ]
          },
          "metadata": {},
          "execution_count": 12
        }
      ]
    },
    {
      "cell_type": "markdown",
      "metadata": {
        "id": "CFaQc9oolp5_"
      },
      "source": [
        "## 8.To determine the level of access to mobile phones for people in urban areas and rural areas"
      ]
    },
    {
      "cell_type": "code",
      "metadata": {
        "colab": {
          "base_uri": "https://localhost:8080/",
          "height": 116
        },
        "id": "bXoQFpyAXwPQ",
        "outputId": "fb780cc9-493b-4dfb-c33c-a7017fe3bc25"
      },
      "source": [
        "# To determine the number of people with access to cell phones in urban and rural areas\n",
        "%%sql\n",
        "select count(cellphone_access), location_type\n",
        "from Financial\n",
        "group by location_type"
      ],
      "execution_count": null,
      "outputs": [
        {
          "output_type": "stream",
          "name": "stdout",
          "text": [
            " * sqlite://\n",
            "Done.\n"
          ]
        },
        {
          "output_type": "execute_result",
          "data": {
            "text/html": [
              "<table>\n",
              "    <thead>\n",
              "        <tr>\n",
              "            <th>count(cellphone_access)</th>\n",
              "            <th>location_type</th>\n",
              "        </tr>\n",
              "    </thead>\n",
              "    <tbody>\n",
              "        <tr>\n",
              "            <td>14343</td>\n",
              "            <td>Rural</td>\n",
              "        </tr>\n",
              "        <tr>\n",
              "            <td>9181</td>\n",
              "            <td>Urban</td>\n",
              "        </tr>\n",
              "    </tbody>\n",
              "</table>"
            ],
            "text/plain": [
              "[(14343, 'Rural'), (9181, 'Urban')]"
            ]
          },
          "metadata": {},
          "execution_count": 16
        }
      ]
    },
    {
      "cell_type": "markdown",
      "metadata": {
        "id": "IZ7erSVfOKfu"
      },
      "source": [
        "##9. To determine the influence of education level to cell phone access and bank account access"
      ]
    },
    {
      "cell_type": "code",
      "metadata": {
        "colab": {
          "base_uri": "https://localhost:8080/",
          "height": 326
        },
        "id": "x0Kls8N3OmDU",
        "outputId": "e527229b-68db-4691-d0e3-8bc655883c72"
      },
      "source": [
        "%%sql\n",
        "select education_level,cellphone_access, count(cellphone_access)\n",
        "from Financial\n",
        "group by education_level,cellphone_access\n",
        "order by count(cellphone_access) desc\n"
      ],
      "execution_count": null,
      "outputs": [
        {
          "output_type": "stream",
          "name": "stdout",
          "text": [
            " * sqlite://\n",
            "Done.\n"
          ]
        },
        {
          "output_type": "execute_result",
          "data": {
            "text/html": [
              "<table>\n",
              "    <thead>\n",
              "        <tr>\n",
              "            <th>education_level</th>\n",
              "            <th>cellphone_access</th>\n",
              "            <th>count(cellphone_access)</th>\n",
              "        </tr>\n",
              "    </thead>\n",
              "    <tbody>\n",
              "        <tr>\n",
              "            <td>Primary education</td>\n",
              "            <td>Yes</td>\n",
              "            <td>9441</td>\n",
              "        </tr>\n",
              "        <tr>\n",
              "            <td>Secondary education</td>\n",
              "            <td>Yes</td>\n",
              "            <td>3608</td>\n",
              "        </tr>\n",
              "        <tr>\n",
              "            <td>Primary education</td>\n",
              "            <td>No</td>\n",
              "            <td>3350</td>\n",
              "        </tr>\n",
              "        <tr>\n",
              "            <td>No formal education</td>\n",
              "            <td>Yes</td>\n",
              "            <td>2520</td>\n",
              "        </tr>\n",
              "        <tr>\n",
              "            <td>No formal education</td>\n",
              "            <td>No</td>\n",
              "            <td>1995</td>\n",
              "        </tr>\n",
              "        <tr>\n",
              "            <td>Tertiary education</td>\n",
              "            <td>Yes</td>\n",
              "            <td>1081</td>\n",
              "        </tr>\n",
              "        <tr>\n",
              "            <td>Vocational/Specialised training</td>\n",
              "            <td>Yes</td>\n",
              "            <td>781</td>\n",
              "        </tr>\n",
              "        <tr>\n",
              "            <td>Secondary education</td>\n",
              "            <td>No</td>\n",
              "            <td>615</td>\n",
              "        </tr>\n",
              "        <tr>\n",
              "            <td>Tertiary education</td>\n",
              "            <td>No</td>\n",
              "            <td>76</td>\n",
              "        </tr>\n",
              "        <tr>\n",
              "            <td>Other/Dont know/RTA</td>\n",
              "            <td>Yes</td>\n",
              "            <td>23</td>\n",
              "        </tr>\n",
              "        <tr>\n",
              "            <td>Vocational/Specialised training</td>\n",
              "            <td>No</td>\n",
              "            <td>22</td>\n",
              "        </tr>\n",
              "        <tr>\n",
              "            <td>Other/Dont know/RTA</td>\n",
              "            <td>No</td>\n",
              "            <td>12</td>\n",
              "        </tr>\n",
              "    </tbody>\n",
              "</table>"
            ],
            "text/plain": [
              "[('Primary education', 'Yes', 9441),\n",
              " ('Secondary education', 'Yes', 3608),\n",
              " ('Primary education', 'No', 3350),\n",
              " ('No formal education', 'Yes', 2520),\n",
              " ('No formal education', 'No', 1995),\n",
              " ('Tertiary education', 'Yes', 1081),\n",
              " ('Vocational/Specialised training', 'Yes', 781),\n",
              " ('Secondary education', 'No', 615),\n",
              " ('Tertiary education', 'No', 76),\n",
              " ('Other/Dont know/RTA', 'Yes', 23),\n",
              " ('Vocational/Specialised training', 'No', 22),\n",
              " ('Other/Dont know/RTA', 'No', 12)]"
            ]
          },
          "metadata": {},
          "execution_count": 22
        }
      ]
    },
    {
      "cell_type": "code",
      "metadata": {
        "colab": {
          "base_uri": "https://localhost:8080/",
          "height": 326
        },
        "id": "soDka-HqWs5o",
        "outputId": "a20f0937-7fe1-4b62-a99e-f28d419a651d"
      },
      "source": [
        "%%sql\n",
        "select education_level,bank_account, count(bank_account)\n",
        "from Financial\n",
        "group by education_level,bank_account\n",
        "order by count(bank_account) desc\n"
      ],
      "execution_count": null,
      "outputs": [
        {
          "output_type": "stream",
          "name": "stdout",
          "text": [
            " * sqlite://\n",
            "Done.\n"
          ]
        },
        {
          "output_type": "execute_result",
          "data": {
            "text/html": [
              "<table>\n",
              "    <thead>\n",
              "        <tr>\n",
              "            <th>education_level</th>\n",
              "            <th>bank_account</th>\n",
              "            <th>count(bank_account)</th>\n",
              "        </tr>\n",
              "    </thead>\n",
              "    <tbody>\n",
              "        <tr>\n",
              "            <td>Primary education</td>\n",
              "            <td>No</td>\n",
              "            <td>11698</td>\n",
              "        </tr>\n",
              "        <tr>\n",
              "            <td>No formal education</td>\n",
              "            <td>No</td>\n",
              "            <td>4339</td>\n",
              "        </tr>\n",
              "        <tr>\n",
              "            <td>Secondary education</td>\n",
              "            <td>No</td>\n",
              "            <td>3240</td>\n",
              "        </tr>\n",
              "        <tr>\n",
              "            <td>Primary education</td>\n",
              "            <td>Yes</td>\n",
              "            <td>1093</td>\n",
              "        </tr>\n",
              "        <tr>\n",
              "            <td>Secondary education</td>\n",
              "            <td>Yes</td>\n",
              "            <td>983</td>\n",
              "        </tr>\n",
              "        <tr>\n",
              "            <td>Tertiary education</td>\n",
              "            <td>Yes</td>\n",
              "            <td>591</td>\n",
              "        </tr>\n",
              "        <tr>\n",
              "            <td>Tertiary education</td>\n",
              "            <td>No</td>\n",
              "            <td>566</td>\n",
              "        </tr>\n",
              "        <tr>\n",
              "            <td>Vocational/Specialised training</td>\n",
              "            <td>Yes</td>\n",
              "            <td>458</td>\n",
              "        </tr>\n",
              "        <tr>\n",
              "            <td>Vocational/Specialised training</td>\n",
              "            <td>No</td>\n",
              "            <td>345</td>\n",
              "        </tr>\n",
              "        <tr>\n",
              "            <td>No formal education</td>\n",
              "            <td>Yes</td>\n",
              "            <td>176</td>\n",
              "        </tr>\n",
              "        <tr>\n",
              "            <td>Other/Dont know/RTA</td>\n",
              "            <td>No</td>\n",
              "            <td>24</td>\n",
              "        </tr>\n",
              "        <tr>\n",
              "            <td>Other/Dont know/RTA</td>\n",
              "            <td>Yes</td>\n",
              "            <td>11</td>\n",
              "        </tr>\n",
              "    </tbody>\n",
              "</table>"
            ],
            "text/plain": [
              "[('Primary education', 'No', 11698),\n",
              " ('No formal education', 'No', 4339),\n",
              " ('Secondary education', 'No', 3240),\n",
              " ('Primary education', 'Yes', 1093),\n",
              " ('Secondary education', 'Yes', 983),\n",
              " ('Tertiary education', 'Yes', 591),\n",
              " ('Tertiary education', 'No', 566),\n",
              " ('Vocational/Specialised training', 'Yes', 458),\n",
              " ('Vocational/Specialised training', 'No', 345),\n",
              " ('No formal education', 'Yes', 176),\n",
              " ('Other/Dont know/RTA', 'No', 24),\n",
              " ('Other/Dont know/RTA', 'Yes', 11)]"
            ]
          },
          "metadata": {},
          "execution_count": 26
        }
      ]
    },
    {
      "cell_type": "markdown",
      "metadata": {
        "id": "41ZlkuiKYQ39"
      },
      "source": [
        "##10.To determine influence of marital status to bank account access and cellphone access"
      ]
    },
    {
      "cell_type": "code",
      "metadata": {
        "colab": {
          "base_uri": "https://localhost:8080/",
          "height": 284
        },
        "id": "lrgNEa62YYmE",
        "outputId": "2bb057a3-795f-45c0-c3b6-9656a91e7205"
      },
      "source": [
        "%%sql\n",
        "select marital_status ,cellphone_access, count(cellphone_access)\n",
        "from Financial\n",
        "group by marital_status,cellphone_access\n",
        "order by count(cellphone_access) desc\n"
      ],
      "execution_count": null,
      "outputs": [
        {
          "output_type": "stream",
          "name": "stdout",
          "text": [
            " * sqlite://\n",
            "Done.\n"
          ]
        },
        {
          "output_type": "execute_result",
          "data": {
            "text/html": [
              "<table>\n",
              "    <thead>\n",
              "        <tr>\n",
              "            <th>marital_status</th>\n",
              "            <th>cellphone_access</th>\n",
              "            <th>count(cellphone_access)</th>\n",
              "        </tr>\n",
              "    </thead>\n",
              "    <tbody>\n",
              "        <tr>\n",
              "            <td>Married</td>\n",
              "            <td>Yes</td>\n",
              "            <td>8787</td>\n",
              "        </tr>\n",
              "        <tr>\n",
              "            <td>Single</td>\n",
              "            <td>Yes</td>\n",
              "            <td>5603</td>\n",
              "        </tr>\n",
              "        <tr>\n",
              "            <td>Single</td>\n",
              "            <td>No</td>\n",
              "            <td>2380</td>\n",
              "        </tr>\n",
              "        <tr>\n",
              "            <td>Married</td>\n",
              "            <td>No</td>\n",
              "            <td>1962</td>\n",
              "        </tr>\n",
              "        <tr>\n",
              "            <td>Widowed</td>\n",
              "            <td>Yes</td>\n",
              "            <td>1601</td>\n",
              "        </tr>\n",
              "        <tr>\n",
              "            <td>Divorced</td>\n",
              "            <td>Yes</td>\n",
              "            <td>1456</td>\n",
              "        </tr>\n",
              "        <tr>\n",
              "            <td>Widowed</td>\n",
              "            <td>No</td>\n",
              "            <td>1107</td>\n",
              "        </tr>\n",
              "        <tr>\n",
              "            <td>Divorced</td>\n",
              "            <td>No</td>\n",
              "            <td>620</td>\n",
              "        </tr>\n",
              "        <tr>\n",
              "            <td>Dont know</td>\n",
              "            <td>Yes</td>\n",
              "            <td>7</td>\n",
              "        </tr>\n",
              "        <tr>\n",
              "            <td>Dont know</td>\n",
              "            <td>No</td>\n",
              "            <td>1</td>\n",
              "        </tr>\n",
              "    </tbody>\n",
              "</table>"
            ],
            "text/plain": [
              "[('Married', 'Yes', 8787),\n",
              " ('Single', 'Yes', 5603),\n",
              " ('Single', 'No', 2380),\n",
              " ('Married', 'No', 1962),\n",
              " ('Widowed', 'Yes', 1601),\n",
              " ('Divorced', 'Yes', 1456),\n",
              " ('Widowed', 'No', 1107),\n",
              " ('Divorced', 'No', 620),\n",
              " ('Dont know', 'Yes', 7),\n",
              " ('Dont know', 'No', 1)]"
            ]
          },
          "metadata": {},
          "execution_count": 17
        }
      ]
    },
    {
      "cell_type": "code",
      "metadata": {
        "colab": {
          "base_uri": "https://localhost:8080/",
          "height": 284
        },
        "id": "Xw8E8buaaqmQ",
        "outputId": "0d50a11d-20f6-4825-f536-3fc1a7e439e0"
      },
      "source": [
        "%%sql\n",
        "select marital_status,bank_account, count(bank_account)\n",
        "from Financial\n",
        "group by marital_status,bank_account\n",
        "order by count(marital_status) desc\n"
      ],
      "execution_count": null,
      "outputs": [
        {
          "output_type": "stream",
          "name": "stdout",
          "text": [
            " * sqlite://\n",
            "Done.\n"
          ]
        },
        {
          "output_type": "execute_result",
          "data": {
            "text/html": [
              "<table>\n",
              "    <thead>\n",
              "        <tr>\n",
              "            <th>marital_status</th>\n",
              "            <th>bank_account</th>\n",
              "            <th>count(bank_account)</th>\n",
              "        </tr>\n",
              "    </thead>\n",
              "    <tbody>\n",
              "        <tr>\n",
              "            <td>Married</td>\n",
              "            <td>No</td>\n",
              "            <td>8883</td>\n",
              "        </tr>\n",
              "        <tr>\n",
              "            <td>Single</td>\n",
              "            <td>No</td>\n",
              "            <td>7017</td>\n",
              "        </tr>\n",
              "        <tr>\n",
              "            <td>Widowed</td>\n",
              "            <td>No</td>\n",
              "            <td>2464</td>\n",
              "        </tr>\n",
              "        <tr>\n",
              "            <td>Married</td>\n",
              "            <td>Yes</td>\n",
              "            <td>1866</td>\n",
              "        </tr>\n",
              "        <tr>\n",
              "            <td>Divorced</td>\n",
              "            <td>No</td>\n",
              "            <td>1842</td>\n",
              "        </tr>\n",
              "        <tr>\n",
              "            <td>Single</td>\n",
              "            <td>Yes</td>\n",
              "            <td>966</td>\n",
              "        </tr>\n",
              "        <tr>\n",
              "            <td>Widowed</td>\n",
              "            <td>Yes</td>\n",
              "            <td>244</td>\n",
              "        </tr>\n",
              "        <tr>\n",
              "            <td>Divorced</td>\n",
              "            <td>Yes</td>\n",
              "            <td>234</td>\n",
              "        </tr>\n",
              "        <tr>\n",
              "            <td>Dont know</td>\n",
              "            <td>No</td>\n",
              "            <td>6</td>\n",
              "        </tr>\n",
              "        <tr>\n",
              "            <td>Dont know</td>\n",
              "            <td>Yes</td>\n",
              "            <td>2</td>\n",
              "        </tr>\n",
              "    </tbody>\n",
              "</table>"
            ],
            "text/plain": [
              "[('Married', 'No', 8883),\n",
              " ('Single', 'No', 7017),\n",
              " ('Widowed', 'No', 2464),\n",
              " ('Married', 'Yes', 1866),\n",
              " ('Divorced', 'No', 1842),\n",
              " ('Single', 'Yes', 966),\n",
              " ('Widowed', 'Yes', 244),\n",
              " ('Divorced', 'Yes', 234),\n",
              " ('Dont know', 'No', 6),\n",
              " ('Dont know', 'Yes', 2)]"
            ]
          },
          "metadata": {},
          "execution_count": 19
        }
      ]
    },
    {
      "cell_type": "markdown",
      "metadata": {
        "id": "yPDyIBZ6YxuQ"
      },
      "source": [
        "##11. To determine influence household size to cell phone access and bank account access"
      ]
    },
    {
      "cell_type": "code",
      "metadata": {
        "colab": {
          "base_uri": "https://localhost:8080/",
          "height": 829
        },
        "id": "pZPBg6MPaS1o",
        "outputId": "6fc6e3b3-eabb-4366-ad8a-9513fdc33ac3"
      },
      "source": [
        "%%sql\n",
        "select household_size,cellphone_access, count(cellphone_access)\n",
        "from Financial\n",
        "group by household_size,cellphone_access\n",
        "order by count(cellphone_access) desc\n"
      ],
      "execution_count": null,
      "outputs": [
        {
          "output_type": "stream",
          "name": "stdout",
          "text": [
            " * sqlite://\n",
            "Done.\n"
          ]
        },
        {
          "output_type": "execute_result",
          "data": {
            "text/html": [
              "<table>\n",
              "    <thead>\n",
              "        <tr>\n",
              "            <th>household_size</th>\n",
              "            <th>cellphone_access</th>\n",
              "            <th>count(cellphone_access)</th>\n",
              "        </tr>\n",
              "    </thead>\n",
              "    <tbody>\n",
              "        <tr>\n",
              "            <td>2</td>\n",
              "            <td>Yes</td>\n",
              "            <td>3441</td>\n",
              "        </tr>\n",
              "        <tr>\n",
              "            <td>3</td>\n",
              "            <td>Yes</td>\n",
              "            <td>2937</td>\n",
              "        </tr>\n",
              "        <tr>\n",
              "            <td>4</td>\n",
              "            <td>Yes</td>\n",
              "            <td>2774</td>\n",
              "        </tr>\n",
              "        <tr>\n",
              "            <td>5</td>\n",
              "            <td>Yes</td>\n",
              "            <td>2307</td>\n",
              "        </tr>\n",
              "        <tr>\n",
              "            <td>1</td>\n",
              "            <td>Yes</td>\n",
              "            <td>2082</td>\n",
              "        </tr>\n",
              "        <tr>\n",
              "            <td>2</td>\n",
              "            <td>No</td>\n",
              "            <td>1788</td>\n",
              "        </tr>\n",
              "        <tr>\n",
              "            <td>6</td>\n",
              "            <td>Yes</td>\n",
              "            <td>1668</td>\n",
              "        </tr>\n",
              "        <tr>\n",
              "            <td>7</td>\n",
              "            <td>Yes</td>\n",
              "            <td>1098</td>\n",
              "        </tr>\n",
              "        <tr>\n",
              "            <td>3</td>\n",
              "            <td>No</td>\n",
              "            <td>983</td>\n",
              "        </tr>\n",
              "        <tr>\n",
              "            <td>1</td>\n",
              "            <td>No</td>\n",
              "            <td>975</td>\n",
              "        </tr>\n",
              "        <tr>\n",
              "            <td>4</td>\n",
              "            <td>No</td>\n",
              "            <td>700</td>\n",
              "        </tr>\n",
              "        <tr>\n",
              "            <td>8</td>\n",
              "            <td>Yes</td>\n",
              "            <td>593</td>\n",
              "        </tr>\n",
              "        <tr>\n",
              "            <td>5</td>\n",
              "            <td>No</td>\n",
              "            <td>546</td>\n",
              "        </tr>\n",
              "        <tr>\n",
              "            <td>6</td>\n",
              "            <td>No</td>\n",
              "            <td>428</td>\n",
              "        </tr>\n",
              "        <tr>\n",
              "            <td>7</td>\n",
              "            <td>No</td>\n",
              "            <td>302</td>\n",
              "        </tr>\n",
              "        <tr>\n",
              "            <td>9</td>\n",
              "            <td>Yes</td>\n",
              "            <td>283</td>\n",
              "        </tr>\n",
              "        <tr>\n",
              "            <td>8</td>\n",
              "            <td>No</td>\n",
              "            <td>158</td>\n",
              "        </tr>\n",
              "        <tr>\n",
              "            <td>10</td>\n",
              "            <td>Yes</td>\n",
              "            <td>144</td>\n",
              "        </tr>\n",
              "        <tr>\n",
              "            <td>9</td>\n",
              "            <td>No</td>\n",
              "            <td>80</td>\n",
              "        </tr>\n",
              "        <tr>\n",
              "            <td>11</td>\n",
              "            <td>Yes</td>\n",
              "            <td>51</td>\n",
              "        </tr>\n",
              "        <tr>\n",
              "            <td>10</td>\n",
              "            <td>No</td>\n",
              "            <td>46</td>\n",
              "        </tr>\n",
              "        <tr>\n",
              "            <td>12</td>\n",
              "            <td>Yes</td>\n",
              "            <td>40</td>\n",
              "        </tr>\n",
              "        <tr>\n",
              "            <td>12</td>\n",
              "            <td>No</td>\n",
              "            <td>28</td>\n",
              "        </tr>\n",
              "        <tr>\n",
              "            <td>11</td>\n",
              "            <td>No</td>\n",
              "            <td>18</td>\n",
              "        </tr>\n",
              "        <tr>\n",
              "            <td>13</td>\n",
              "            <td>Yes</td>\n",
              "            <td>18</td>\n",
              "        </tr>\n",
              "        <tr>\n",
              "            <td>15</td>\n",
              "            <td>Yes</td>\n",
              "            <td>9</td>\n",
              "        </tr>\n",
              "        <tr>\n",
              "            <td>13</td>\n",
              "            <td>No</td>\n",
              "            <td>7</td>\n",
              "        </tr>\n",
              "        <tr>\n",
              "            <td>14</td>\n",
              "            <td>No</td>\n",
              "            <td>5</td>\n",
              "        </tr>\n",
              "        <tr>\n",
              "            <td>14</td>\n",
              "            <td>Yes</td>\n",
              "            <td>5</td>\n",
              "        </tr>\n",
              "        <tr>\n",
              "            <td>16</td>\n",
              "            <td>Yes</td>\n",
              "            <td>3</td>\n",
              "        </tr>\n",
              "        <tr>\n",
              "            <td>15</td>\n",
              "            <td>No</td>\n",
              "            <td>2</td>\n",
              "        </tr>\n",
              "        <tr>\n",
              "            <td>16</td>\n",
              "            <td>No</td>\n",
              "            <td>1</td>\n",
              "        </tr>\n",
              "        <tr>\n",
              "            <td>17</td>\n",
              "            <td>Yes</td>\n",
              "            <td>1</td>\n",
              "        </tr>\n",
              "        <tr>\n",
              "            <td>18</td>\n",
              "            <td>No</td>\n",
              "            <td>1</td>\n",
              "        </tr>\n",
              "        <tr>\n",
              "            <td>20</td>\n",
              "            <td>No</td>\n",
              "            <td>1</td>\n",
              "        </tr>\n",
              "        <tr>\n",
              "            <td>21</td>\n",
              "            <td>No</td>\n",
              "            <td>1</td>\n",
              "        </tr>\n",
              "    </tbody>\n",
              "</table>"
            ],
            "text/plain": [
              "[(2, 'Yes', 3441),\n",
              " (3, 'Yes', 2937),\n",
              " (4, 'Yes', 2774),\n",
              " (5, 'Yes', 2307),\n",
              " (1, 'Yes', 2082),\n",
              " (2, 'No', 1788),\n",
              " (6, 'Yes', 1668),\n",
              " (7, 'Yes', 1098),\n",
              " (3, 'No', 983),\n",
              " (1, 'No', 975),\n",
              " (4, 'No', 700),\n",
              " (8, 'Yes', 593),\n",
              " (5, 'No', 546),\n",
              " (6, 'No', 428),\n",
              " (7, 'No', 302),\n",
              " (9, 'Yes', 283),\n",
              " (8, 'No', 158),\n",
              " (10, 'Yes', 144),\n",
              " (9, 'No', 80),\n",
              " (11, 'Yes', 51),\n",
              " (10, 'No', 46),\n",
              " (12, 'Yes', 40),\n",
              " (12, 'No', 28),\n",
              " (11, 'No', 18),\n",
              " (13, 'Yes', 18),\n",
              " (15, 'Yes', 9),\n",
              " (13, 'No', 7),\n",
              " (14, 'No', 5),\n",
              " (14, 'Yes', 5),\n",
              " (16, 'Yes', 3),\n",
              " (15, 'No', 2),\n",
              " (16, 'No', 1),\n",
              " (17, 'Yes', 1),\n",
              " (18, 'No', 1),\n",
              " (20, 'No', 1),\n",
              " (21, 'No', 1)]"
            ]
          },
          "metadata": {},
          "execution_count": 23
        }
      ]
    },
    {
      "cell_type": "code",
      "metadata": {
        "colab": {
          "base_uri": "https://localhost:8080/",
          "height": 807
        },
        "id": "bcnUBKsCawSW",
        "outputId": "b5d2f9a7-2c65-4c0f-965e-a68b6f180a10"
      },
      "source": [
        "%%sql\n",
        "select household_size,bank_account, count(bank_account)\n",
        "from Financial\n",
        "group by household_size,bank_account\n",
        "order by count(bank_account) desc\n"
      ],
      "execution_count": null,
      "outputs": [
        {
          "output_type": "stream",
          "name": "stdout",
          "text": [
            " * sqlite://\n",
            "Done.\n"
          ]
        },
        {
          "output_type": "execute_result",
          "data": {
            "text/html": [
              "<table>\n",
              "    <thead>\n",
              "        <tr>\n",
              "            <th>household_size</th>\n",
              "            <th>bank_account</th>\n",
              "            <th>count(bank_account)</th>\n",
              "        </tr>\n",
              "    </thead>\n",
              "    <tbody>\n",
              "        <tr>\n",
              "            <td>2</td>\n",
              "            <td>No</td>\n",
              "            <td>4610</td>\n",
              "        </tr>\n",
              "        <tr>\n",
              "            <td>3</td>\n",
              "            <td>No</td>\n",
              "            <td>3361</td>\n",
              "        </tr>\n",
              "        <tr>\n",
              "            <td>4</td>\n",
              "            <td>No</td>\n",
              "            <td>2973</td>\n",
              "        </tr>\n",
              "        <tr>\n",
              "            <td>1</td>\n",
              "            <td>No</td>\n",
              "            <td>2473</td>\n",
              "        </tr>\n",
              "        <tr>\n",
              "            <td>5</td>\n",
              "            <td>No</td>\n",
              "            <td>2426</td>\n",
              "        </tr>\n",
              "        <tr>\n",
              "            <td>6</td>\n",
              "            <td>No</td>\n",
              "            <td>1819</td>\n",
              "        </tr>\n",
              "        <tr>\n",
              "            <td>7</td>\n",
              "            <td>No</td>\n",
              "            <td>1223</td>\n",
              "        </tr>\n",
              "        <tr>\n",
              "            <td>8</td>\n",
              "            <td>No</td>\n",
              "            <td>665</td>\n",
              "        </tr>\n",
              "        <tr>\n",
              "            <td>2</td>\n",
              "            <td>Yes</td>\n",
              "            <td>619</td>\n",
              "        </tr>\n",
              "        <tr>\n",
              "            <td>1</td>\n",
              "            <td>Yes</td>\n",
              "            <td>584</td>\n",
              "        </tr>\n",
              "        <tr>\n",
              "            <td>3</td>\n",
              "            <td>Yes</td>\n",
              "            <td>559</td>\n",
              "        </tr>\n",
              "        <tr>\n",
              "            <td>4</td>\n",
              "            <td>Yes</td>\n",
              "            <td>501</td>\n",
              "        </tr>\n",
              "        <tr>\n",
              "            <td>5</td>\n",
              "            <td>Yes</td>\n",
              "            <td>427</td>\n",
              "        </tr>\n",
              "        <tr>\n",
              "            <td>9</td>\n",
              "            <td>No</td>\n",
              "            <td>326</td>\n",
              "        </tr>\n",
              "        <tr>\n",
              "            <td>6</td>\n",
              "            <td>Yes</td>\n",
              "            <td>277</td>\n",
              "        </tr>\n",
              "        <tr>\n",
              "            <td>7</td>\n",
              "            <td>Yes</td>\n",
              "            <td>177</td>\n",
              "        </tr>\n",
              "        <tr>\n",
              "            <td>10</td>\n",
              "            <td>No</td>\n",
              "            <td>165</td>\n",
              "        </tr>\n",
              "        <tr>\n",
              "            <td>8</td>\n",
              "            <td>Yes</td>\n",
              "            <td>86</td>\n",
              "        </tr>\n",
              "        <tr>\n",
              "            <td>11</td>\n",
              "            <td>No</td>\n",
              "            <td>63</td>\n",
              "        </tr>\n",
              "        <tr>\n",
              "            <td>12</td>\n",
              "            <td>No</td>\n",
              "            <td>61</td>\n",
              "        </tr>\n",
              "        <tr>\n",
              "            <td>9</td>\n",
              "            <td>Yes</td>\n",
              "            <td>37</td>\n",
              "        </tr>\n",
              "        <tr>\n",
              "            <td>10</td>\n",
              "            <td>Yes</td>\n",
              "            <td>25</td>\n",
              "        </tr>\n",
              "        <tr>\n",
              "            <td>13</td>\n",
              "            <td>No</td>\n",
              "            <td>23</td>\n",
              "        </tr>\n",
              "        <tr>\n",
              "            <td>15</td>\n",
              "            <td>No</td>\n",
              "            <td>9</td>\n",
              "        </tr>\n",
              "        <tr>\n",
              "            <td>14</td>\n",
              "            <td>No</td>\n",
              "            <td>8</td>\n",
              "        </tr>\n",
              "        <tr>\n",
              "            <td>12</td>\n",
              "            <td>Yes</td>\n",
              "            <td>7</td>\n",
              "        </tr>\n",
              "        <tr>\n",
              "            <td>11</td>\n",
              "            <td>Yes</td>\n",
              "            <td>6</td>\n",
              "        </tr>\n",
              "        <tr>\n",
              "            <td>16</td>\n",
              "            <td>No</td>\n",
              "            <td>4</td>\n",
              "        </tr>\n",
              "        <tr>\n",
              "            <td>13</td>\n",
              "            <td>Yes</td>\n",
              "            <td>2</td>\n",
              "        </tr>\n",
              "        <tr>\n",
              "            <td>14</td>\n",
              "            <td>Yes</td>\n",
              "            <td>2</td>\n",
              "        </tr>\n",
              "        <tr>\n",
              "            <td>15</td>\n",
              "            <td>Yes</td>\n",
              "            <td>2</td>\n",
              "        </tr>\n",
              "        <tr>\n",
              "            <td>17</td>\n",
              "            <td>Yes</td>\n",
              "            <td>1</td>\n",
              "        </tr>\n",
              "        <tr>\n",
              "            <td>18</td>\n",
              "            <td>No</td>\n",
              "            <td>1</td>\n",
              "        </tr>\n",
              "        <tr>\n",
              "            <td>20</td>\n",
              "            <td>No</td>\n",
              "            <td>1</td>\n",
              "        </tr>\n",
              "        <tr>\n",
              "            <td>21</td>\n",
              "            <td>No</td>\n",
              "            <td>1</td>\n",
              "        </tr>\n",
              "    </tbody>\n",
              "</table>"
            ],
            "text/plain": [
              "[(2, 'No', 4610),\n",
              " (3, 'No', 3361),\n",
              " (4, 'No', 2973),\n",
              " (1, 'No', 2473),\n",
              " (5, 'No', 2426),\n",
              " (6, 'No', 1819),\n",
              " (7, 'No', 1223),\n",
              " (8, 'No', 665),\n",
              " (2, 'Yes', 619),\n",
              " (1, 'Yes', 584),\n",
              " (3, 'Yes', 559),\n",
              " (4, 'Yes', 501),\n",
              " (5, 'Yes', 427),\n",
              " (9, 'No', 326),\n",
              " (6, 'Yes', 277),\n",
              " (7, 'Yes', 177),\n",
              " (10, 'No', 165),\n",
              " (8, 'Yes', 86),\n",
              " (11, 'No', 63),\n",
              " (12, 'No', 61),\n",
              " (9, 'Yes', 37),\n",
              " (10, 'Yes', 25),\n",
              " (13, 'No', 23),\n",
              " (15, 'No', 9),\n",
              " (14, 'No', 8),\n",
              " (12, 'Yes', 7),\n",
              " (11, 'Yes', 6),\n",
              " (16, 'No', 4),\n",
              " (13, 'Yes', 2),\n",
              " (14, 'Yes', 2),\n",
              " (15, 'Yes', 2),\n",
              " (17, 'Yes', 1),\n",
              " (18, 'No', 1),\n",
              " (20, 'No', 1),\n",
              " (21, 'No', 1)]"
            ]
          },
          "metadata": {},
          "execution_count": 24
        }
      ]
    }
  ]
}